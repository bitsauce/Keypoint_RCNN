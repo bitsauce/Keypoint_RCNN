{
 "cells": [
  {
   "cell_type": "code",
   "execution_count": 5,
   "metadata": {
    "collapsed": false
   },
   "outputs": [
    {
     "name": "stdout",
     "output_type": "stream",
     "text": [
      "       Wall time  Step     Value\n",
      "0   1.528202e+09     0  7.284049\n",
      "1   1.528203e+09     1  7.233511\n",
      "2   1.528203e+09     2  7.222589\n",
      "3   1.528204e+09     3  7.215618\n",
      "4   1.528205e+09     4  7.212190\n",
      "5   1.528206e+09     5  7.215039\n",
      "6   1.528207e+09     6  7.205168\n",
      "7   1.528208e+09     7  7.203118\n",
      "8   1.528209e+09     8  7.204814\n",
      "9   1.528210e+09     9  7.200012\n",
      "10  1.528211e+09    10  7.196786\n",
      "11  1.528211e+09    11  7.205791\n",
      "12  1.528212e+09    12  7.203938\n",
      "13  1.528213e+09    13  7.203284\n",
      "14  1.528214e+09    14  7.203763\n",
      "15  1.528241e+09    15  7.203210\n",
      "16  1.528242e+09    16  7.198617\n",
      "17  1.528243e+09    17  7.198647\n",
      "18  1.528244e+09    18  7.195766\n",
      "19  1.528245e+09    19  7.200016\n",
      "20  1.528246e+09    20  7.202217\n"
     ]
    },
    {
     "data": {
      "text/plain": [
       "[<matplotlib.lines.Line2D at 0x1da942ac3c8>]"
      ]
     },
     "execution_count": 5,
     "metadata": {},
     "output_type": "execute_result"
    },
    {
     "data": {
      "image/png": "[encoded data removed]",
      "text/plain": [
       "<matplotlib.figure.Figure at 0x1da9d5045c0>"
      ]
     },
     "metadata": {},
     "output_type": "display_data"
    }
   ],
   "source": [
    "%matplotlib inline\n",
    "import matplotlib.pyplot as plt\n",
    "import pandas as pd\n",
    "\n",
    "data = pd.read_csv(\"run_1_mrcnn_mask_loss.csv\")\n",
    "print(data)\n",
    "\n",
    "plt.plot(data[\"Step\"], data[\"Value\"])"
   ]
  }
 ],
 "metadata": {
  "kernelspec": {
   "display_name": "Python 3",
   "language": "python",
   "name": "python3"
  },
  "language_info": {
   "codemirror_mode": {
    "name": "ipython",
    "version": 3
   },
   "file_extension": ".py",
   "mimetype": "text/x-python",
   "name": "python",
   "nbconvert_exporter": "python",
   "pygments_lexer": "ipython3",
   "version": "3.6.5"
  }
 },
 "nbformat": 4,
 "nbformat_minor": 2
}
